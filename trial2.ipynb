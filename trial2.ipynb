{
 "cells": [
  {
   "attachments": {},
   "cell_type": "markdown",
   "metadata": {},
   "source": [
    "### The purpose of this notebook\n",
    "Cyber Agent社が公開した日本語特化LLM [Open-CALM](https://huggingface.co/cyberagent/open-calm-7b) のテスト\n",
    "\n",
    "| Model                        | Params | Layers | Dim  | Heads | Dev | ppl |\n",
    "|------------------------------|--------|--------|------|-------|-----|-----|\n",
    "| cyberagent/open-calm-small   | 160M   | 12     | 768  | 12    |19.7 |     |\n",
    "| cyberagent/open-calm-medium  | 400M   | 24     | 1024 | 16    |13.8 |     |\n",
    "| cyberagent/open-calm-large   | 830M   | 24     | 1536 | 16    |11.3 |     |\n",
    "| cyberagent/open-calm-1b      | 1.4B   | 24     | 2048 | 16    |10.3 |     |\n",
    "| cyberagent/open-calm-3b      | 2.7B   | 32     | 2560 | 32    |9.7  |     |\n",
    "| cyberagent/open-calm-7b      | 6.8B   | 32     | 4096 | 32    |8.2  |     |"
   ]
  },
  {
   "cell_type": "code",
   "execution_count": 13,
   "metadata": {},
   "outputs": [
    {
     "data": {
      "application/vnd.jupyter.widget-view+json": {
       "model_id": "80ac1ef327b94f3da00155d0b5347e05",
       "version_major": 2,
       "version_minor": 0
      },
      "text/plain": [
       "Downloading (…)okenizer_config.json:   0%|          | 0.00/323 [00:00<?, ?B/s]"
      ]
     },
     "metadata": {},
     "output_type": "display_data"
    },
    {
     "data": {
      "application/vnd.jupyter.widget-view+json": {
       "model_id": "a81a45c6e25849c3b77a691e10a68745",
       "version_major": 2,
       "version_minor": 0
      },
      "text/plain": [
       "Downloading (…)/main/tokenizer.json:   0%|          | 0.00/3.23M [00:00<?, ?B/s]"
      ]
     },
     "metadata": {},
     "output_type": "display_data"
    },
    {
     "data": {
      "application/vnd.jupyter.widget-view+json": {
       "model_id": "70304354050d40cf9d24ef242e0d275a",
       "version_major": 2,
       "version_minor": 0
      },
      "text/plain": [
       "Downloading (…)cial_tokens_map.json:   0%|          | 0.00/129 [00:00<?, ?B/s]"
      ]
     },
     "metadata": {},
     "output_type": "display_data"
    },
    {
     "data": {
      "application/vnd.jupyter.widget-view+json": {
       "model_id": "6e0b62e22920463baf164966b15c378c",
       "version_major": 2,
       "version_minor": 0
      },
      "text/plain": [
       "Downloading (…)lve/main/config.json:   0%|          | 0.00/611 [00:00<?, ?B/s]"
      ]
     },
     "metadata": {},
     "output_type": "display_data"
    },
    {
     "data": {
      "application/vnd.jupyter.widget-view+json": {
       "model_id": "614ebec524494133ae578cb4a1b1d372",
       "version_major": 2,
       "version_minor": 0
      },
      "text/plain": [
       "Downloading (…)model.bin.index.json:   0%|          | 0.00/42.0k [00:00<?, ?B/s]"
      ]
     },
     "metadata": {},
     "output_type": "display_data"
    },
    {
     "data": {
      "application/vnd.jupyter.widget-view+json": {
       "model_id": "f318e787095847c79125ea476933dac0",
       "version_major": 2,
       "version_minor": 0
      },
      "text/plain": [
       "Downloading shards:   0%|          | 0/2 [00:00<?, ?it/s]"
      ]
     },
     "metadata": {},
     "output_type": "display_data"
    },
    {
     "data": {
      "application/vnd.jupyter.widget-view+json": {
       "model_id": "937969f073814da39f17419c2160b914",
       "version_major": 2,
       "version_minor": 0
      },
      "text/plain": [
       "Downloading (…)l-00001-of-00002.bin:   0%|          | 0.00/9.93G [00:00<?, ?B/s]"
      ]
     },
     "metadata": {},
     "output_type": "display_data"
    },
    {
     "data": {
      "application/vnd.jupyter.widget-view+json": {
       "model_id": "0c46e68d85a0452fb1030a57d042d931",
       "version_major": 2,
       "version_minor": 0
      },
      "text/plain": [
       "Downloading (…)l-00002-of-00002.bin:   0%|          | 0.00/3.95G [00:00<?, ?B/s]"
      ]
     },
     "metadata": {},
     "output_type": "display_data"
    },
    {
     "data": {
      "application/vnd.jupyter.widget-view+json": {
       "model_id": "ff372618f498423d88ea8a23936e448a",
       "version_major": 2,
       "version_minor": 0
      },
      "text/plain": [
       "Loading checkpoint shards:   0%|          | 0/2 [00:00<?, ?it/s]"
      ]
     },
     "metadata": {},
     "output_type": "display_data"
    },
    {
     "data": {
      "application/vnd.jupyter.widget-view+json": {
       "model_id": "ee4d69cc1b104ecca778b5b921c4f662",
       "version_major": 2,
       "version_minor": 0
      },
      "text/plain": [
       "Downloading (…)neration_config.json:   0%|          | 0.00/116 [00:00<?, ?B/s]"
      ]
     },
     "metadata": {},
     "output_type": "display_data"
    },
    {
     "data": {
      "application/vnd.jupyter.widget-view+json": {
       "model_id": "85310f485cc846d094fca3a0dae99ae4",
       "version_major": 2,
       "version_minor": 0
      },
      "text/plain": [
       "Loading checkpoint shards:   0%|          | 0/2 [00:00<?, ?it/s]"
      ]
     },
     "metadata": {},
     "output_type": "display_data"
    },
    {
     "name": "stderr",
     "output_type": "stream",
     "text": [
      "The attention mask and the pad token id were not set. As a consequence, you may observe unexpected behavior. Please pass your input's `attention_mask` to obtain reliable results.\n",
      "Setting `pad_token_id` to `eos_token_id`:0 for open-end generation.\n"
     ]
    },
    {
     "data": {
      "application/vnd.jupyter.widget-view+json": {
       "model_id": "f9410ebb0f6f48d6a99a6bd89c3e04ca",
       "version_major": 2,
       "version_minor": 0
      },
      "text/plain": [
       "0it [00:00, ?it/s]"
      ]
     },
     "metadata": {},
     "output_type": "display_data"
    },
    {
     "name": "stdout",
     "output_type": "stream",
     "text": [
      "Token: 林, Hidden State: tensor([[[ 0.0894,  0.0757, -0.0100,  ..., -0.0243, -0.0881, -0.0027],\n",
      "         [ 0.0706, -0.0511, -0.0185,  ..., -0.0054,  0.0542, -0.0295],\n",
      "         [ 0.0045,  0.0465, -0.0839,  ..., -0.0045, -0.0135,  0.0774],\n",
      "         ...,\n",
      "         [ 0.0373, -0.0401,  0.0336,  ...,  0.0166, -0.0238, -0.0500],\n",
      "         [-0.0229, -0.1041, -0.0446,  ..., -0.1105,  0.0571,  0.0007],\n",
      "         [-0.1040, -0.1261, -0.0040,  ...,  0.0894,  0.0261,  0.0858]]],\n",
      "       grad_fn=<EmbeddingBackward0>)\n",
      "Token: 檎, Hidden State: tensor([[[ 0.6182,  0.5550, -0.0808,  ..., -1.2450,  0.4577,  2.0946],\n",
      "         [ 0.1640, -1.4763,  0.6434,  ...,  0.1246,  0.0356, -2.7210],\n",
      "         [-0.6943, -0.3979, -0.9238,  ...,  0.2434, -1.2330, -0.3016],\n",
      "         ...,\n",
      "         [ 1.2663, -0.4101, -0.2816,  ...,  1.2356,  0.5992, -0.0728],\n",
      "         [-1.3053, -0.8954,  0.4181,  ...,  0.1440,  0.6385, -0.2179],\n",
      "         [-0.6848, -1.1187, -0.4895,  ...,  0.1540, -0.3075, -1.2029]]],\n",
      "       grad_fn=<AddBackward0>)\n",
      "Token: ,, Hidden State: tensor([[[ 1.6913,  1.2811, -0.3465,  ...,  0.1538,  1.0943,  3.4000],\n",
      "         [ 2.3094,  0.1024,  0.1360,  ...,  3.5935, -0.0737, -2.1531],\n",
      "         [ 0.3396,  0.2314, -1.8770,  ..., -0.0554, -0.8010, -0.1545],\n",
      "         ...,\n",
      "         [ 3.0731,  0.0256, -0.8542,  ...,  3.0346,  2.0727,  0.6542],\n",
      "         [-0.6996, -0.7350,  1.8482,  ...,  0.5396,  0.7268,  0.3312],\n",
      "         [ 0.7342, -1.1465, -0.3515,  ...,  0.3106, -0.3659, -0.9900]]],\n",
      "       grad_fn=<AddBackward0>)\n",
      "Token: 梨, Hidden State: tensor([[[ 8.0505,  2.2641,  2.3812,  ..., -3.4883,  2.5082,  2.4178],\n",
      "         [ 4.4605,  0.1648,  2.9983,  ...,  2.8194, -0.5428, -0.9879],\n",
      "         [ 1.5526, -0.1098, -2.5191,  ..., -1.0853,  0.1840, -1.3454],\n",
      "         ...,\n",
      "         [ 4.6274, -1.5188, -0.0499,  ...,  3.1736,  3.8747,  0.7032],\n",
      "         [ 0.0984, -1.4767,  2.1350,  ..., -0.7708,  1.2484,  0.7142],\n",
      "         [ 1.5541, -1.4494, -0.7591,  ..., -0.8120, -0.3986, -0.5433]]],\n",
      "       grad_fn=<AddBackward0>)\n",
      "Token: ,, Hidden State: tensor([[[ 8.9930e+00,  6.3199e+00,  1.5095e+00,  ..., -1.8630e+00,\n",
      "          -3.2152e+00,  2.5087e+00],\n",
      "         [ 3.3412e+00,  1.1925e+00,  3.6004e+00,  ...,  1.5237e+00,\n",
      "          -1.0163e-03, -2.0241e+00],\n",
      "         [ 2.0840e+00, -4.0820e-02, -2.5012e+00,  ..., -2.0923e+00,\n",
      "           4.0914e-01, -2.0262e+00],\n",
      "         ...,\n",
      "         [ 4.9908e+00, -6.8198e-01, -2.8874e+00,  ...,  2.4313e+00,\n",
      "           3.2642e+00,  7.1935e-01],\n",
      "         [-7.9174e-01, -1.5384e+00,  2.2977e+00,  ...,  5.7567e-01,\n",
      "           1.9834e-01,  2.4875e-01],\n",
      "         [ 1.2256e+00, -6.0780e-01, -1.1976e+00,  ..., -1.5802e-01,\n",
      "          -6.1362e-01, -1.7823e+00]]], grad_fn=<AddBackward0>)\n",
      "Token: 苺, Hidden State: tensor([[[ 9.8015,  5.9813,  2.3124,  ..., -1.8139, -3.0084,  2.8045],\n",
      "         [ 2.4623,  0.7812,  4.0732,  ..., -0.4912,  0.7836, -1.0790],\n",
      "         [ 3.7855,  0.2351, -2.1730,  ..., -2.3093,  0.7164, -1.1497],\n",
      "         ...,\n",
      "         [ 5.4665, -0.5793, -1.2383,  ...,  3.5253,  4.0940, -1.8944],\n",
      "         [ 1.1442,  0.3229,  3.1655,  ...,  1.1861,  0.5201, -0.2531],\n",
      "         [ 2.0023, -0.5837, -0.5485,  ..., -0.6283, -0.4357, -1.3811]]],\n",
      "       grad_fn=<AddBackward0>)\n",
      "Token: ,, Hidden State: tensor([[[ 9.1415,  6.4478,  2.9724,  ...,  1.0429, -3.5635,  3.9299],\n",
      "         [ 1.7320, -0.4810,  3.9821,  ...,  0.3733,  2.1378, -1.7840],\n",
      "         [ 3.3426,  1.5279, -1.5214,  ..., -2.3830,  0.3305, -0.7554],\n",
      "         ...,\n",
      "         [ 6.1377, -0.7623, -0.9283,  ...,  1.3575,  3.8401, -1.0445],\n",
      "         [ 1.4962, -0.5020,  2.6409,  ...,  0.0759, -1.2001, -1.4560],\n",
      "         [ 2.6519, -0.6148, -0.6023,  ..., -1.4475, -1.5340, -1.1046]]],\n",
      "       grad_fn=<AddBackward0>)\n",
      "Token: 3, Hidden State: tensor([[[ 8.0522,  6.6984,  3.3314,  ...,  0.1951, -1.6296,  3.6135],\n",
      "         [ 2.8312,  0.7529,  4.0908,  ...,  1.2968,  5.3569, -1.8487],\n",
      "         [ 3.2805,  2.4957, -1.5409,  ..., -0.9875,  0.9524,  1.1884],\n",
      "         ...,\n",
      "         [ 7.2545, -0.3818, -1.0199,  ...,  1.1864,  3.9997,  0.1820],\n",
      "         [ 2.8637, -3.0603,  2.5751,  ...,  0.2686, -0.2738,  0.3272],\n",
      "         [ 2.5464, -2.2054, -0.7172,  ..., -2.0514,  1.3871,  0.9556]]],\n",
      "       grad_fn=<AddBackward0>)\n",
      "Token: つの, Hidden State: tensor([[[ 7.8172,  5.8169,  3.4020,  ..., -1.4757, -1.4098,  3.8303],\n",
      "         [ 1.8534,  0.1227,  5.6517,  ...,  1.9978,  7.1610, -0.5193],\n",
      "         [ 3.2989,  2.1730, -0.1438,  ..., -1.5144,  1.6492,  2.7460],\n",
      "         ...,\n",
      "         [ 6.5939,  0.1475, -2.5160,  ...,  3.7223,  2.4307,  0.3743],\n",
      "         [ 4.5017, -5.1902,  1.8057,  ...,  3.8319, -0.2821,  0.7098],\n",
      "         [ 1.2322, -2.9790, -2.4192,  ...,  0.3148,  1.8861,  1.5714]]],\n",
      "       grad_fn=<AddBackward0>)\n",
      "Token: フルーツ, Hidden State: tensor([[[ 8.6067,  5.6353,  1.5344,  ..., -2.5934, -2.8367,  5.1964],\n",
      "         [ 3.1806,  0.8499,  4.8080,  ...,  4.3755,  7.8298,  0.8790],\n",
      "         [ 3.4361,  2.2861, -0.7402,  ..., -3.6623,  1.1957,  3.9183],\n",
      "         ...,\n",
      "         [ 7.0760,  1.4160, -1.6115,  ...,  2.3231,  1.6995,  0.8068],\n",
      "         [ 5.4685, -3.2228,  4.3518,  ...,  2.4232,  1.7670,  0.7876],\n",
      "         [ 0.5043, -0.8561, -2.3222,  ..., -2.2441,  0.3398,  0.5812]]],\n",
      "       grad_fn=<AddBackward0>)\n",
      "Token: のうち, Hidden State: tensor([[[ 8.0903,  5.8938,  3.0306,  ..., -1.6620, -5.0888,  5.5702],\n",
      "         [ 2.9554,  1.0123,  5.2434,  ...,  6.2009,  7.2725,  1.0454],\n",
      "         [ 4.5976,  2.8486, -0.3183,  ..., -2.3415, -0.5773,  3.1252],\n",
      "         ...,\n",
      "         [ 6.9330,  1.7727, -3.5322,  ..., -0.9348,  3.4824,  0.5050],\n",
      "         [ 2.9025, -3.3783,  5.3266,  ...,  1.7966,  2.3888, -0.4821],\n",
      "         [-1.2639,  0.4440, -2.5409,  ..., -3.3723,  2.3094, -2.1815]]],\n",
      "       grad_fn=<AddBackward0>)\n",
      "Token: ,, Hidden State: tensor([[[ 8.4491,  6.4323,  1.9851,  ..., -2.6926, -3.9196,  6.2320],\n",
      "         [ 3.8363,  1.6295,  4.3650,  ...,  5.4425,  7.9483,  3.2589],\n",
      "         [ 5.3993,  2.9020, -1.6720,  ..., -2.5732, -1.2412,  3.1334],\n",
      "         ...,\n",
      "         [ 7.4042, -0.1765, -2.6775,  ..., -2.3021,  4.4460, -0.9769],\n",
      "         [ 2.4675, -1.5015,  6.2896,  ...,  0.8400,  3.8662, -2.6471],\n",
      "         [-1.9761,  1.6279, -3.5387,  ..., -4.4849,  4.1723, -4.2289]]],\n",
      "       grad_fn=<AddBackward0>)\n",
      "Token: 仲間, Hidden State: tensor([[[ 9.0571,  5.4182,  2.0613,  ..., -2.4441, -4.0160,  5.0635],\n",
      "         [ 4.1198,  2.6077,  3.7948,  ...,  5.1100,  6.1140,  5.2335],\n",
      "         [ 5.5165,  2.6290, -2.9715,  ..., -4.4409, -2.6007,  5.1180],\n",
      "         ...,\n",
      "         [ 6.6133, -1.8614, -1.9029,  ..., -0.9319,  3.2227, -1.3776],\n",
      "         [ 2.5256, -0.6096,  5.2973,  ...,  1.6418,  6.2568, -0.6415],\n",
      "         [-2.7449,  1.9726, -2.9643,  ..., -6.6641,  5.7288,  0.5235]]],\n",
      "       grad_fn=<AddBackward0>)\n",
      "Token: 外れ, Hidden State: tensor([[[ 7.7210,  5.7915,  2.1545,  ..., -3.0797, -5.1719,  3.7175],\n",
      "         [ 3.1518,  2.3561,  3.7843,  ...,  5.0043,  6.2174,  3.4546],\n",
      "         [ 4.5507,  1.9483, -1.8824,  ..., -5.1888, -4.1816,  5.1854],\n",
      "         ...,\n",
      "         [ 4.8601,  0.3079, -1.8547,  ..., -3.2448,  5.3443,  0.4492],\n",
      "         [ 0.9627,  0.2087,  6.2785,  ..., -0.0259,  3.8403, -2.3833],\n",
      "         [-2.7705,  2.8202, -2.8373,  ..., -9.1360,  4.1566, -2.2683]]],\n",
      "       grad_fn=<AddBackward0>)\n",
      "Token: は, Hidden State: tensor([[[  7.9024,   4.9490,   1.4818,  ...,  -2.5691,  -4.5418,   4.1355],\n",
      "         [  4.0163,   1.2538,   2.6088,  ...,   5.1416,   7.5937,   5.2251],\n",
      "         [  5.8112,   0.4058,  -2.7022,  ...,  -4.3642,  -4.7576,   4.4871],\n",
      "         ...,\n",
      "         [  4.8554,   1.2752,  -1.6255,  ...,  -2.8151,   1.8259,   4.1328],\n",
      "         [  1.0371,   0.8790,   8.3787,  ...,  -1.6434,   0.2788,  -0.4657],\n",
      "         [ -1.9695,   3.7611,  -2.5407,  ..., -10.1952,   2.3161,  -2.1653]]],\n",
      "       grad_fn=<AddBackward0>)\n",
      "Token: どれ, Hidden State: tensor([[[ 8.3421,  5.1666,  1.6820,  ..., -1.7647, -4.0097,  4.9744],\n",
      "         [ 5.1319,  1.0407,  1.4050,  ...,  5.9104,  6.8774,  7.0720],\n",
      "         [ 5.6874,  0.3877, -2.4126,  ..., -2.8861, -5.4503,  5.6804],\n",
      "         ...,\n",
      "         [ 4.7934,  1.5387,  0.4552,  ..., -2.7967,  2.9553,  5.2576],\n",
      "         [ 0.9129,  0.5875,  8.9340,  ..., -0.8487,  0.5838, -0.7425],\n",
      "         [-2.3795,  5.3241, -3.0632,  ..., -7.6086,  1.7334, -2.8967]]],\n",
      "       grad_fn=<AddBackward0>)\n",
      "Token: ですか, Hidden State: tensor([[[ 7.6760,  5.9368,  1.4333,  ..., -2.7143, -0.2694,  3.3719],\n",
      "         [ 3.5240,  2.0151,  1.9540,  ...,  3.8063,  7.7928,  6.1879],\n",
      "         [ 4.7310,  0.8259, -2.1987,  ..., -3.1175, -3.8650,  3.4438],\n",
      "         ...,\n",
      "         [ 4.5821,  1.3038,  2.0868,  ..., -6.0683,  3.8488,  6.7373],\n",
      "         [ 0.6358, -0.2251, 10.9891,  ..., -0.0207,  1.1390, -1.6109],\n",
      "         [-4.7201, -0.2025,  1.3933,  ..., -8.2134,  3.5155, -2.1018]]],\n",
      "       grad_fn=<AddBackward0>)\n",
      "Token: ?, Hidden State: tensor([[[ 9.3005,  5.8380,  1.0490,  ..., -3.4449, -1.9459,  2.5709],\n",
      "         [ 4.6100, -0.1206,  0.6297,  ...,  2.4726,  6.9831,  5.7676],\n",
      "         [ 6.6688, -0.5441, -4.0415,  ..., -1.2932, -4.7156,  3.1404],\n",
      "         ...,\n",
      "         [ 5.2046,  1.8576,  2.0661,  ..., -7.9750,  2.8654,  7.0836],\n",
      "         [ 2.6358, -2.7994,  7.6971,  ..., -0.8435,  3.5083, -3.4665],\n",
      "         [-4.0705, -2.0736, -1.2726,  ..., -8.9981,  5.6856, -4.5154]]],\n",
      "       grad_fn=<AddBackward0>)\n",
      "----------------------------------\n",
      "林檎,梨,苺,3つのフルーツのうち,仲間外れはどれですか? 1. 桃, 2. ザクロ, 3. すもも\n",
      "Q2. りんご,梨,柿,いちご,パイナップル,バナナの、仲間外れはどれですか? 1. 桃, 2. 柿, 3. バナナ, 4. パイナップル, 5. 柿, 6. 梨, 7. パイナップル, 8. いちご, 9\n"
     ]
    }
   ],
   "source": [
    "# Import libraries\n",
    "import torch\n",
    "import torchvision\n",
    "import numpy as np\n",
    "import pandas as pd\n",
    "import matplotlib.cm as cm\n",
    "import matplotlib.pyplot as plt\n",
    "\n",
    "from tqdm.notebook import tqdm\n",
    "\n",
    "# Import GPT-2 and stable diffusion decoders\n",
    "from diffusers import StableDiffusionPipeline\n",
    "from transformers import AutoTokenizer, AutoModelForCausalLM, GPT2Tokenizer, GPT2LMHeadModel, GPT2Model\n",
    "\n",
    "torch.manual_seed(234)\n",
    "\n",
    "# Define parameters and functions for LLM\n",
    "tokenizer = AutoTokenizer.from_pretrained(\"cyberagent/open-calm-7b\")\n",
    "model = AutoModelForCausalLM.from_pretrained('cyberagent/open-calm-7b')\n",
    "lm_model = AutoModelForCausalLM.from_pretrained(\"cyberagent/open-calm-7b\", output_hidden_states=True)\n",
    "# Add a [PAD] token to the tokenizer\n",
    "if tokenizer.pad_token is None:\n",
    "    tokenizer.add_special_tokens({'pad_token':'[PAD]'})\n",
    "model.eval()\n",
    "lm_model.eval()\n",
    "\n",
    "prompt = str(\"林檎,梨, 苺, 3つのフルーツのうち, 仲間外れはどれですか？\")\n",
    "\n",
    "# Encode the prompt into tokens\n",
    "input_ids = tokenizer.encode(prompt, return_tensors=\"pt\")\n",
    "\n",
    "def lm_generate(input_ids):\n",
    "    # Generate tokens from the prompt using LLM\n",
    "    gen_output = model(input_ids)\n",
    "    gen_embeddings = lm_model(input_ids,\n",
    "                              labels=input_ids)                             \n",
    "    gen_token = lm_model.generate(input_ids,\n",
    "                                  do_sample=True,\n",
    "                                  temperature=0.9,\n",
    "                                  max_length=100,\n",
    "                                  labels=input_ids)\n",
    "    return gen_output, gen_embeddings, gen_token\n",
    "\n",
    "# Generate a text from text using LLM\n",
    "generated_output, generated_embeddings, generated_token = lm_generate(input_ids)\n",
    "\n",
    "lm_output = generated_output[0]\n",
    "lm_hidden_states = generated_embeddings[3]\n",
    "lm_text = tokenizer.batch_decode(generated_token)[0]\n",
    "\n",
    "# Iterate over the hidden states and the input ids to print the hidden state for each token\n",
    "for hidden_state, input_id in tqdm(zip(lm_hidden_states, input_ids[0])):\n",
    "    print(f\"Token: {tokenizer.decode([input_id])}, Hidden State: {hidden_state}\")\n",
    "print('----------------------------------')\n",
    "# Print the generated text\n",
    "print(lm_text)\n"
   ]
  }
 ],
 "metadata": {
  "kernelspec": {
   "display_name": "Python 3",
   "language": "python",
   "name": "python3"
  },
  "language_info": {
   "codemirror_mode": {
    "name": "ipython",
    "version": 3
   },
   "file_extension": ".py",
   "mimetype": "text/x-python",
   "name": "python",
   "nbconvert_exporter": "python",
   "pygments_lexer": "ipython3",
   "version": "3.9.6"
  },
  "orig_nbformat": 4
 },
 "nbformat": 4,
 "nbformat_minor": 2
}
